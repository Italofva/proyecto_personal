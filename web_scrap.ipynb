{
 "cells": [
  {
   "cell_type": "code",
   "execution_count": 33,
   "metadata": {},
   "outputs": [],
   "source": [
    "import selenium\n",
    "import requests\n",
    "import statistics as st\n",
    "import numpy as np\n",
    "from bs4 import BeautifulSoup\n",
    "import pandas as pd\n",
    "import time\n",
    "from selenium import webdriver\n",
    "from selenium.webdriver.common.by import By\n",
    "from selenium.webdriver.chrome.options import Options\n",
    "from selenium.webdriver.common.keys import Keys\n",
    "from types import NoneType\n"
   ]
  },
  {
   "cell_type": "markdown",
   "metadata": {},
   "source": [
    "Lectura del archivo de SKUS"
   ]
  },
  {
   "cell_type": "code",
   "execution_count": 19,
   "metadata": {},
   "outputs": [],
   "source": [
    "file_path='C:\\Minorista\\DTS\\CP\\DTS_alicorp_minorista_cliente_perfecto_precios1.xlsx'\n",
    "dt=pd.read_excel(file_path)\n",
    "skus=dt.NOMBRE_ELEMENTO.dropna()\n",
    "skus=skus.unique()"
   ]
  },
  {
   "cell_type": "code",
   "execution_count": 22,
   "metadata": {},
   "outputs": [
    {
     "data": {
      "text/plain": [
       "487"
      ]
     },
     "execution_count": 22,
     "metadata": {},
     "output_type": "execute_result"
    }
   ],
   "source": [
    "len(skus)"
   ]
  },
  {
   "cell_type": "markdown",
   "metadata": {},
   "source": [
    "Comparación de precios de la competencia"
   ]
  },
  {
   "cell_type": "code",
   "execution_count": 34,
   "metadata": {},
   "outputs": [
    {
     "name": "stderr",
     "output_type": "stream",
     "text": [
      "C:\\Users\\ItaloFernandoVilaAre\\AppData\\Local\\Temp\\ipykernel_16640\\660351924.py:5: DeprecationWarning: executable_path has been deprecated, please pass in a Service object\n",
      "  driver=webdriver.Chrome(crho_driver_path, options=option)\n"
     ]
    },
    {
     "name": "stdout",
     "output_type": "stream",
     "text": [
      "Sku 10:  KOLYNOS TRIPLE LIMPIEZA COMPLETA 90GR\n",
      "2.8\n",
      "3.5\n",
      "3.7\n",
      "Sku 11:  AMBIENTADOR SAPOLIO LAVANDA 360ML\n",
      "6.9\n",
      "7.6\n",
      "6.4\n",
      "7.0\n",
      "Sku 12:  CHUÑO UMSHA 180GR\n",
      "3.5\n",
      "4.0\n",
      "3.5\n",
      "3.5\n",
      "Sku 13:  MAICENA UMSHA 180GR\n",
      "2.1\n",
      "1.8\n",
      "2.2\n",
      "2.1\n",
      "Sku 14:  JAB LIQUIDO PLUSBELLE  HIDRATANTE CREMA 400ML\n"
     ]
    },
    {
     "ename": "StatisticsError",
     "evalue": "mean requires at least one data point",
     "output_type": "error",
     "traceback": [
      "\u001b[1;31m---------------------------------------------------------------------------\u001b[0m",
      "\u001b[1;31mStatisticsError\u001b[0m                           Traceback (most recent call last)",
      "\u001b[1;32mc:\\Automatizaciones\\WebScrapping\\web_scrap.ipynb Celda 6\u001b[0m in \u001b[0;36m<cell line: 8>\u001b[1;34m()\u001b[0m\n\u001b[0;32m     <a href='vscode-notebook-cell:/c%3A/Automatizaciones/WebScrapping/web_scrap.ipynb#W5sZmlsZQ%3D%3D?line=50'>51</a>\u001b[0m                 precios\u001b[39m.\u001b[39mappend(price_aux)\n\u001b[0;32m     <a href='vscode-notebook-cell:/c%3A/Automatizaciones/WebScrapping/web_scrap.ipynb#W5sZmlsZQ%3D%3D?line=51'>52</a>\u001b[0m                 \u001b[39mprint\u001b[39m(price_aux)\n\u001b[1;32m---> <a href='vscode-notebook-cell:/c%3A/Automatizaciones/WebScrapping/web_scrap.ipynb#W5sZmlsZQ%3D%3D?line=53'>54</a>\u001b[0m media\u001b[39m.\u001b[39mappend(st\u001b[39m.\u001b[39;49mmean(precios))\n\u001b[0;32m     <a href='vscode-notebook-cell:/c%3A/Automatizaciones/WebScrapping/web_scrap.ipynb#W5sZmlsZQ%3D%3D?line=54'>55</a>\u001b[0m \u001b[39mdict\u001b[39m[skus[i]]\u001b[39m=\u001b[39mprecios\n\u001b[0;32m     <a href='vscode-notebook-cell:/c%3A/Automatizaciones/WebScrapping/web_scrap.ipynb#W5sZmlsZQ%3D%3D?line=55'>56</a>\u001b[0m time\u001b[39m.\u001b[39msleep(\u001b[39m3\u001b[39m)\n",
      "File \u001b[1;32mc:\\Users\\ItaloFernandoVilaAre\\AppData\\Local\\Programs\\Python\\Python310\\lib\\statistics.py:328\u001b[0m, in \u001b[0;36mmean\u001b[1;34m(data)\u001b[0m\n\u001b[0;32m    326\u001b[0m n \u001b[39m=\u001b[39m \u001b[39mlen\u001b[39m(data)\n\u001b[0;32m    327\u001b[0m \u001b[39mif\u001b[39;00m n \u001b[39m<\u001b[39m \u001b[39m1\u001b[39m:\n\u001b[1;32m--> 328\u001b[0m     \u001b[39mraise\u001b[39;00m StatisticsError(\u001b[39m'\u001b[39m\u001b[39mmean requires at least one data point\u001b[39m\u001b[39m'\u001b[39m)\n\u001b[0;32m    329\u001b[0m T, total, count \u001b[39m=\u001b[39m _sum(data)\n\u001b[0;32m    330\u001b[0m \u001b[39massert\u001b[39;00m count \u001b[39m==\u001b[39m n\n",
      "\u001b[1;31mStatisticsError\u001b[0m: mean requires at least one data point"
     ]
    }
   ],
   "source": [
    "crho_driver_path='C:\\Program Files (x86)\\chromedriver.exe'\n",
    "option=webdriver.ChromeOptions()\n",
    "option.add_argument(\"--incognito\")\n",
    "option.add_argument(\"--headless\")\n",
    "driver=webdriver.Chrome(crho_driver_path, options=option)\n",
    "dict={}\n",
    "media=[]\n",
    "for i in range(10,len(skus)):\n",
    "    \n",
    "    driver.get(\"https://google.com\")\n",
    "    searchbox=driver.find_element(By.XPATH, value='/html/body/div[1]/div[3]/form/div[1]/div[1]/div[1]/div/div[2]/input')\n",
    "    searchbox.clear()\n",
    "    searchbox.send_keys(skus[i])\n",
    "    searchbox.send_keys(Keys.ENTER)\n",
    "\n",
    "    #extraer codigo html de la página\n",
    "    current_url=driver.current_url\n",
    "    req=requests.get(current_url)\n",
    "    soup = BeautifulSoup(req.text, 'html.parser')\n",
    "    precios=[]\n",
    "    print(f\"Sku {i}: \",skus[i])\n",
    "\n",
    "    try:\n",
    "\n",
    "        span=soup.find_all('span',{'class':'r0bn4c rQMQod'})\n",
    "        price_new=0\n",
    "        for k in range(0,len(span)):\n",
    "            price=span[k].text\n",
    "            if 'PEN' in price:\n",
    "                string_start=price.find('N')\n",
    "                price_aux=float(price[string_start+2:string_start+6])\n",
    "                precios.append(price_aux)\n",
    "                print(price_aux)\n",
    "            else:\n",
    "                continue\n",
    "    except Exception as e:\n",
    "        span=soup.find_all('div',{'class':'BNeawe s3v9rd AP7Wnd'})\n",
    "        for i in range(0,len(span)):\n",
    "            if type(span[i].div)==NoneType:\n",
    "                if 'S/' in span[i].text:\n",
    "                    start=span[i].text.find('/')\n",
    "                    price_aux=float(span[i].text[start+1:start+6].replace(',','.').strip(' .'))\n",
    "                    precios.append(price_aux)\n",
    "                    print(price_aux)\n",
    "                else:\n",
    "                    continue\n",
    "            else:\n",
    "                if 'S/' in span[i].text:\n",
    "                    start=span[i].text.find('/')\n",
    "                    price_aux=float(span[i].text[start+1:start+6].replace(',','.').strip(' .'))\n",
    "                    precios.append(price_aux)\n",
    "                    print(price_aux)\n",
    "\n",
    "    media.append(st.mean(precios))\n",
    "    dict[skus[i]]=precios\n",
    "    time.sleep(3)\n",
    "\n",
    "df=pd.DataFrame([[key,dict[key]] for key in dict.keys()], columns=['sku','price'])\n",
    "df['Media']=media\n",
    "df"
   ]
  },
  {
   "cell_type": "code",
   "execution_count": 24,
   "metadata": {},
   "outputs": [
    {
     "name": "stderr",
     "output_type": "stream",
     "text": [
      "C:\\Users\\ItaloFernandoVilaAre\\AppData\\Local\\Temp\\ipykernel_16640\\1090395924.py:7: DeprecationWarning: executable_path has been deprecated, please pass in a Service object\n",
      "  driver=webdriver.Chrome(crho_driver_path, options=option)\n"
     ]
    }
   ],
   "source": [
    "\n",
    "crho_driver_path='C:\\Program Files (x86)\\chromedriver.exe'\n",
    "\n",
    "option=webdriver.ChromeOptions()\n",
    "\n",
    "option.add_argument(\"--incognito\")\n",
    "option.add_argument(\"--headless\")\n",
    "driver=webdriver.Chrome(crho_driver_path, options=option)\n",
    "driver.get(\"https://google.com\")\n",
    "searchbox=driver.find_element(By.XPATH, value='/html/body/div[1]/div[3]/form/div[1]/div[1]/div[1]/div/div[2]/input')\n",
    "searchbox.clear()\n",
    "searchbox.send_keys(skus[14])\n",
    "searchbox.send_keys(Keys.ENTER)\n",
    "\n",
    "#extraer codigo html de la página\n",
    "current_url=driver.current_url\n",
    "req=requests.get(current_url)\n",
    "soup = BeautifulSoup(req.text, 'html.parser')\n",
    "span=soup.find_all('span',{'class':'r0bn4c rQMQod'})\n",
    "price_new=0\n",
    "for i in range(0,len(span)):\n",
    "    price=span[i].text\n",
    "    if 'PEN' in price:\n",
    "        start=price.find('N')\n",
    "        print('inicio: ',start,'final: ',start+5)\n",
    "        #price_aux=float(price[start+1:start+5])\n",
    "        #print(price_aux)\n",
    "        print(price[start+2:start+6])\n",
    "    else:\n",
    "        continue\n",
    "\n",
    "time.sleep(3)\n",
    "#driver.quit()"
   ]
  },
  {
   "cell_type": "code",
   "execution_count": 25,
   "metadata": {},
   "outputs": [
    {
     "name": "stderr",
     "output_type": "stream",
     "text": [
      "C:\\Users\\ItaloFernandoVilaAre\\AppData\\Local\\Temp\\ipykernel_16640\\3582379313.py:1: DeprecationWarning: executable_path has been deprecated, please pass in a Service object\n",
      "  driver=webdriver.Chrome(crho_driver_path, options=option)\n"
     ]
    }
   ],
   "source": [
    "driver=webdriver.Chrome(crho_driver_path, options=option)\n",
    "driver.get(\"https://google.com\")\n",
    "searchbox=driver.find_element(By.XPATH, value='/html/body/div[1]/div[3]/form/div[1]/div[1]/div[1]/div/div[2]/input')\n",
    "searchbox.clear()\n",
    "searchbox.send_keys(skus[14])\n",
    "searchbox.send_keys(Keys.ENTER)\n",
    "\n",
    "#extraer codigo html de la página\n",
    "current_url=driver.current_url\n",
    "req=requests.get(current_url)\n",
    "soup = BeautifulSoup(req.text, 'html.parser')\n",
    "span=soup.find_all('div',{'class':'BNeawe s3v9rd AP7Wnd'})"
   ]
  },
  {
   "cell_type": "code",
   "execution_count": null,
   "metadata": {},
   "outputs": [],
   "source": [
    "len(span)"
   ]
  },
  {
   "cell_type": "markdown",
   "metadata": {},
   "source": [
    "Para aquellas busquedas que no haya tag de precios"
   ]
  },
  {
   "cell_type": "code",
   "execution_count": 31,
   "metadata": {},
   "outputs": [
    {
     "name": "stdout",
     "output_type": "stream",
     "text": [
      "6.9\n",
      "6.9\n",
      "7.9\n",
      "7.9\n",
      "31.0\n",
      "31.0\n",
      "31.96\n",
      "31.96\n",
      "5.5\n",
      "5.5\n"
     ]
    }
   ],
   "source": [
    "from types import NoneType\n",
    "span=soup.find_all('div',{'class':'BNeawe s3v9rd AP7Wnd'})\n",
    "for i in range(0,len(span)):\n",
    "    if type(span[i].div)==NoneType:\n",
    "        if 'S/' in span[i].text:\n",
    "            start=span[i].text.find('/')\n",
    "            print(float(span[i].text[start+1:start+6].replace(',','.').strip(' .')))\n",
    "        else:\n",
    "            continue\n",
    "    else:\n",
    "        if 'S/' in span[i].text:\n",
    "            start=span[i].text.find('/')\n",
    "            print(float(span[i].text[start+1:start+6].replace(',','.').strip(' .')))"
   ]
  },
  {
   "cell_type": "markdown",
   "metadata": {},
   "source": [
    "Funciones que scrapea span o div"
   ]
  },
  {
   "cell_type": "code",
   "execution_count": null,
   "metadata": {},
   "outputs": [],
   "source": [
    "def span(soup):\n",
    "    span=soup.find_all('span',{'class':'r0bn4c rQMQod'})\n",
    "    price_new=0\n",
    "    for i in range(0,len(span)):\n",
    "        price=span[i].text\n",
    "        if 'PEN' in price:\n",
    "            start=price.find('N')\n",
    "            print('inicio: ',start,'final: ',start+5)\n",
    "            #price_aux=float(price[start+1:start+5])\n",
    "            #print(price_aux)\n",
    "            print(price[start+2:start+6])\n",
    "        else:\n",
    "            continue\n",
    "    return "
   ]
  },
  {
   "cell_type": "code",
   "execution_count": null,
   "metadata": {},
   "outputs": [],
   "source": [
    "span[26]"
   ]
  },
  {
   "cell_type": "code",
   "execution_count": null,
   "metadata": {},
   "outputs": [],
   "source": []
  }
 ],
 "metadata": {
  "kernelspec": {
   "display_name": "Python 3.10.4 64-bit",
   "language": "python",
   "name": "python3"
  },
  "language_info": {
   "codemirror_mode": {
    "name": "ipython",
    "version": 3
   },
   "file_extension": ".py",
   "mimetype": "text/x-python",
   "name": "python",
   "nbconvert_exporter": "python",
   "pygments_lexer": "ipython3",
   "version": "3.10.4"
  },
  "orig_nbformat": 4,
  "vscode": {
   "interpreter": {
    "hash": "3cf78f9372e3c670ba565e1c1617e0ae33550478ec180e34d4ee4f2bde4d6150"
   }
  }
 },
 "nbformat": 4,
 "nbformat_minor": 2
}
