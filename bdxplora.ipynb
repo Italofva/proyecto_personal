{
 "cells": [
  {
   "cell_type": "markdown",
   "metadata": {},
   "source": [
    "Explorar BBDD con Pyodbc"
   ]
  },
  {
   "cell_type": "code",
   "execution_count": 1,
   "metadata": {},
   "outputs": [],
   "source": [
    "import pyodbc\n",
    "import pandas as pd\n",
    "import numpy as np"
   ]
  },
  {
   "cell_type": "code",
   "execution_count": 2,
   "metadata": {},
   "outputs": [],
   "source": [
    "servidor = 'LUCKYDW01.LUCKY.LOCAL'  # Nombre del servidor SQL con el cual se hará la conexión\n",
    "bddatos = 'BDXplora'  # Nombre de la base de datos SQL\n",
    "usuario = 'alicorpmenor' # Nombre del usuario de SQL\n",
    "clave = 'almenor2019#'  # Contraseña del usuario de SQL\n",
    "\n",
    "try:\n",
    "    conn = pyodbc.connect('DRIVER={ODBC Driver 17 for SQL Server};\\\n",
    "                        SERVER='+servidor+';\\\n",
    "                        DATABASE='+bddatos+';\\\n",
    "                        UID='+usuario+';\\\n",
    "                        PWD='+clave)\n",
    "\n",
    "except Exception as e:\n",
    "\n",
    "    print(\"Ocurrió un error en la conexon: \", e)"
   ]
  },
  {
   "cell_type": "markdown",
   "metadata": {},
   "source": [
    "Exploracion de BBDD con SQLAlchemy"
   ]
  },
  {
   "cell_type": "code",
   "execution_count": 3,
   "metadata": {},
   "outputs": [],
   "source": [
    "from sqlalchemy.engine import URL, create_engine\n",
    "\n",
    "connection_string = 'DRIVER={ODBC Driver 17 for SQL Server};\\\n",
    "                    SERVER='+servidor+';DATABASE='+bddatos+';UID='+usuario+';PWD='+clave\n",
    "connection_url = URL.create(\"mssql+pyodbc\", query={\"odbc_connect\": connection_string})\n",
    "engine = create_engine(connection_url)"
   ]
  },
  {
   "cell_type": "code",
   "execution_count": 32,
   "metadata": {},
   "outputs": [],
   "source": [
    "from sqlalchemy.orm import sessionmaker\n",
    "with sessionmaker(bind=engine)() as session:\n",
    "        #session=sessionmaker(bind=engine)()\n",
    "        result=session.execute(\"SET NOCOUNT ON; EXEC [usp_DTS_alicorp_minorista_cliente_perfecto_precios] '01/05/2022','31/07/2022'\")\n",
    "        rows=result.fetchall()\n",
    "        df=pd.DataFrame(rows,\n",
    "                        columns=['FECHA_REGISTRO','COD_GESTOR','USUARIO','HORA_INICIO',\\\n",
    "                                'HORA_FIN','LATITUD_INICIO','LONGITUD_INICIO','LATITUD_FIN',\\\n",
    "                                'LONGITUD_FIN','TIPO_RELEVO','IMAGEN_VISITA','COD_PDV','PDV',\\\n",
    "                                'DIR_PDV','CANAL','ACTIVIDAD','REPORTE','COD_ELEMENTO','NOMBRE_ELEMENTO',\\\n",
    "                                'MOTIVO_NA','MOTIVO_NV','Precio Normal','Precio Promoción.','FOTO','Observación',\\\n",
    "                                'ID_REGISTRO_REPORTE']\n",
    "                        )"
   ]
  },
  {
   "cell_type": "code",
   "execution_count": 33,
   "metadata": {},
   "outputs": [],
   "source": [
    "if (isinstance(df[\"Precio Normal\"], object)) | (isinstance(df[\"Precio Promoción.\"],object)):\n",
    "    df[\"Precio Normal\"]=df['Precio Normal'].str.replace(\",\",\".\").astype(float)\n",
    "    df[\"Precio Promoción.\"]=df[\"Precio Promoción.\"].str.replace(\",\",\".\").astype(float)\n",
    "else:\n",
    "    pass\n",
    "\n",
    "# Rellenar valores null a 0\n",
    "df[\"Precio Normal\"].fillna(0, inplace=True)\n",
    "df[\"Precio Promoción.\"].fillna(0,inplace=True)\n",
    "\n",
    "# Creacion de codigo unico para eliminar valores duplicados.\n",
    "df[\"concat\"]=df.FECHA_REGISTRO.dt.day.map(str)+\\\n",
    "            df.FECHA_REGISTRO.dt.month.map(str)+\\\n",
    "            df.FECHA_REGISTRO.dt.year.map(str)+\\\n",
    "            df.USUARIO+df.PDV+df.NOMBRE_ELEMENTO\n",
    "\n",
    "\n",
    "df=df.drop_duplicates(subset=[\"concat\"])"
   ]
  },
  {
   "cell_type": "code",
   "execution_count": 34,
   "metadata": {},
   "outputs": [
    {
     "name": "stderr",
     "output_type": "stream",
     "text": [
      "C:\\Users\\ItaloFernandoVilaAre\\AppData\\Local\\Temp\\ipykernel_2200\\421178445.py:6: SettingWithCopyWarning: \n",
      "A value is trying to be set on a copy of a slice from a DataFrame\n",
      "\n",
      "See the caveats in the documentation: https://pandas.pydata.org/pandas-docs/stable/user_guide/indexing.html#returning-a-view-versus-a-copy\n",
      "  df[\"Precio Normal\"][i]=val\n"
     ]
    }
   ],
   "source": [
    "df=df.loc[(df[\"Precio Normal\"]!=0) | (df[\"Precio Promoción.\"]!=0)]\n",
    "df.reset_index(inplace=True)\n",
    "for i in range(0,len(df.index)):\n",
    "    if df[\"Precio Normal\"][i]==0:\n",
    "        val=df[\"Precio Promoción.\"][i]\n",
    "        df[\"Precio Normal\"][i]=val\n",
    "    else:\n",
    "        pass\n",
    "df=df.drop(columns=\"index\")\n",
    "df=df.set_index(\"FECHA_REGISTRO\")"
   ]
  },
  {
   "cell_type": "code",
   "execution_count": 36,
   "metadata": {},
   "outputs": [
    {
     "data": {
      "image/png": "[encoded data removed]",
      "text/plain": [
       "<Figure size 1440x360 with 1 Axes>"
      ]
     },
     "metadata": {
      "needs_background": "light"
     },
     "output_type": "display_data"
    }
   ],
   "source": [
    "import matplotlib as mpl\n",
    "import matplotlib.pyplot as plt\n",
    "\n",
    "df_sku1=df[df.NOMBRE_ELEMENTO==\"ACEITE COCINERO 1LT\"]\n",
    "df_sku2=df[df.NOMBRE_ELEMENTO==\"ACEITE CIL  1LT\"]\n",
    "fig1=plt.figure(1)\n",
    "plt.plot(df_sku1.index,df_sku1[\"Precio Normal\"], 'ro', df_sku2.index, df_sku2[\"Precio Normal\"], 'bs')\n",
    "plt.xlabel(\"Fecha\")\n",
    "plt.ylabel(\"Precio\")\n",
    "\n",
    "fig1.set_size_inches(20,5)\n",
    "plt.show()"
   ]
  },
  {
   "cell_type": "code",
   "execution_count": null,
   "metadata": {},
   "outputs": [],
   "source": [
    "import statistics as sta\n",
    "def MTC_file(file):\n",
    "    #path=r'C:\\Minorista\\CP\\precios\\Base_test_clean.xlsx'\n",
    "    df=file\n",
    "    df[\"Mes\"]=pd.to_datetime(df.index, format='%m').dt.month_name()\n",
    "\n",
    "    start_list=[]\n",
    "    df_result=pd.DataFrame(start_list)\n",
    "\n",
    "    # Iteramos por Mes\n",
    "    for i in df.Mes.unique():\n",
    "        df1=df[df.Mes==i]\n",
    "        sku_mes=df1[\"NOMBRE_ELEMENTO\"].unique()\n",
    "        sku=[]\n",
    "        moda=[]\n",
    "        media=[]\n",
    "        dest=[]\n",
    "        mounth=[]\n",
    "        # Iteramos por SKU por mes\n",
    "        for nombre_sku in sku_mes:\n",
    "            mes=i\n",
    "            df_sku=df1[df1[\"NOMBRE_ELEMENTO\"]==nombre_sku][\"Precio Normal\"]\n",
    "            df_sku=df_sku.fillna(0)\n",
    "            sku.append(nombre_sku)\n",
    "            moda.append(sta.mode(df_sku))\n",
    "            media.append(sta.mean(df_sku))\n",
    "            dest.append(sta.pstdev(df_sku))\n",
    "            mounth.append(mes)\n",
    "        # Apilamos dataframes por cada mes\n",
    "        df_start=df_result\n",
    "        data_last={'SKU':sku, 'Moda':moda, 'Media':media, 'Des.Est':dest, 'Mes':mounth}\n",
    "        df_finish=pd.DataFrame(data_last)\n",
    "        df_result=pd.concat([df_start,df_finish], axis=0)\n",
    "    \n",
    "    df_result.to_excel(\"MTC_Mensual_prueba.xlsx\", index=False)\n",
    "    return df_result\n"
   ]
  },
  {
   "cell_type": "code",
   "execution_count": null,
   "metadata": {},
   "outputs": [],
   "source": [
    "def detect_ouliers_zscore(data):\n",
    "    outliers=[]\n",
    "    thres=2.5\n",
    "    mean=np.mean(data)\n",
    "    std=np.std(data)\n",
    "    if std!=0:\n",
    "        for i in data:\n",
    "            z_score=(i-mean)/std\n",
    "            if (np.abs(z_score)>thres):\n",
    "                outliers.append(i)\n",
    "    else:\n",
    "        pass\n",
    "    return outliers\n"
   ]
  },
  {
   "cell_type": "code",
   "execution_count": null,
   "metadata": {},
   "outputs": [],
   "source": [
    "def replace_outliers(data,mtc_file):\n",
    "    skus=data.NOMBRE_ELEMENTO.unique()\n",
    "    for nombre_sku in skus:\n",
    "        df_sku=data[data[\"NOMBRE_ELEMENTO\"]==nombre_sku]\n",
    "        sample_outliers=detect_ouliers_zscore(df_sku[\"Precio Normal\"])\n",
    "        if len(sample_outliers)!=0:\n",
    "            for i in sample_outliers:\n",
    "                moda=mtc_file[mtc_file.SKU==nombre_sku][\"Moda\"].iloc[0]\n",
    "                df_sku.loc[df_sku[\"Precio Normal\"]==i,\"Precio Normal\"]=moda\n",
    "        else:\n",
    "            pass\n",
    "        data[data[\"NOMBRE_ELEMENTO\"]==nombre_sku]=df_sku"
   ]
  }
 ],
 "metadata": {
  "kernelspec": {
   "display_name": "Python 3.10.4 64-bit",
   "language": "python",
   "name": "python3"
  },
  "language_info": {
   "codemirror_mode": {
    "name": "ipython",
    "version": 3
   },
   "file_extension": ".py",
   "mimetype": "text/x-python",
   "name": "python",
   "nbconvert_exporter": "python",
   "pygments_lexer": "ipython3",
   "version": "3.10.4"
  },
  "orig_nbformat": 4,
  "vscode": {
   "interpreter": {
    "hash": "3cf78f9372e3c670ba565e1c1617e0ae33550478ec180e34d4ee4f2bde4d6150"
   }
  }
 },
 "nbformat": 4,
 "nbformat_minor": 2
}
